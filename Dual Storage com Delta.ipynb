{
 "cells": [
  {
   "cell_type": "code",
   "execution_count": null,
   "id": "9ef921a7-9e08-4f0b-a2e0-23aace2cbb64",
   "metadata": {
    "tags": []
   },
   "outputs": [
    {
     "name": "stdout",
     "output_type": "stream",
     "text": [
      "+--------------------+---------------------+--------------+----------------------+-----+--------------------+----------+\n",
      "|     _airbyte_raw_id|_airbyte_extracted_at| _airbyte_meta|_airbyte_generation_id|   id|                name|country_id|\n",
      "+--------------------+---------------------+--------------+----------------------+-----+--------------------+----------+\n",
      "|9202d4ef-8836-419...| 2025-05-08 03:17:...|{35826647, []}|                     3|    1|Belgium Jupiler L...|         1|\n",
      "|e3a53785-5171-442...| 2025-05-08 03:17:...|{35826647, []}|                     3| 1729|England Premier L...|      1729|\n",
      "|5cd88425-2ebf-40f...| 2025-05-08 03:17:...|{35826647, []}|                     3| 4769|      France Ligue 1|      4769|\n",
      "|c23131b2-e6ab-4a8...| 2025-05-08 03:17:...|{35826647, []}|                     3| 7809|Germany 1. Bundes...|      7809|\n",
      "|01dd48c8-f68b-490...| 2025-05-08 03:17:...|{35826647, []}|                     3|10257|       Italy Serie A|     10257|\n",
      "|0b766c8f-d617-4d4...| 2025-05-08 03:17:...|{35826647, []}|                     3|13274|Netherlands Eredi...|     13274|\n",
      "|013eb667-9707-4cb...| 2025-05-08 03:17:...|{35826647, []}|                     3|15722|  Poland Ekstraklasa|     15722|\n",
      "|3b08116b-fa85-4ac...| 2025-05-08 03:17:...|{35826647, []}|                     3|17642|Portugal Liga ZON...|     17642|\n",
      "|3896d28e-38a3-4ed...| 2025-05-08 03:17:...|{35826647, []}|                     3|19694|Scotland Premier ...|     19694|\n",
      "|c7c98352-43a8-4cb...| 2025-05-08 03:17:...|{35826647, []}|                     3|21518|     Spain LIGA BBVA|     21518|\n",
      "|3b98cbeb-fba6-4d9...| 2025-05-08 03:17:...|{35826647, []}|                     3|24558|Switzerland Super...|     24558|\n",
      "+--------------------+---------------------+--------------+----------------------+-----+--------------------+----------+\n",
      "\n",
      "Tabela Delta gravada com sucesso no MinIO!\n"
     ]
    }
   ],
   "source": [
    "from pyspark.sql import SparkSession\n",
    "\n",
    "def create_spark_session() -> SparkSession:\n",
    "    spark = (\n",
    "        SparkSession.builder\n",
    "        .appName(\"Dual Storage Integration Delta\")\n",
    "        .enableHiveSupport()\n",
    "        .config(\"spark.sql.extensions\", \"io.delta.sql.DeltaSparkSessionExtension\")\n",
    "        .config(\"spark.sql.catalog.spark_catalog\", \"org.apache.spark.sql.delta.catalog.DeltaCatalog\")\n",
    "        .config(\"spark.hadoop.fs.s3a.impl\", \"org.apache.hadoop.fs.s3a.S3AFileSystem\")\n",
    "        .config(\"spark.hadoop.fs.s3minio.impl\", \"org.apache.hadoop.fs.s3a.S3AFileSystem\")\n",
    "        .getOrCreate()\n",
    "    )\n",
    "    return spark\n",
    "\n",
    "spark = create_spark_session()\n",
    "\n",
    "s3_options = {\n",
    "    \"fs.s3a.access.key\": \"\",\n",
    "    \"fs.s3a.secret.key\": \"\",\n",
    "    \"fs.s3a.endpoint\": \"s3.us-east-2.amazonaws.com\",\n",
    "    \"fs.s3a.region\": \"us-east-2\",\n",
    "    \"fs.s3a.path.style.access\": \"false\"\n",
    "}\n",
    "\n",
    "minio_delta_options = {\n",
    "    \"fs.s3a.access.key\": \"admin\",\n",
    "    \"fs.s3a.secret.key\": \"senhasegura\",\n",
    "    \"fs.s3a.endpoint\": \"http://minio:9000\",\n",
    "    \"fs.s3a.path.style.access\": \"true\",\n",
    "    \"fs.s3a.connection.ssl.enabled\": \"false\"\n",
    "}\n",
    "\n",
    "df = (\n",
    "    spark\n",
    "    .read\n",
    "    .format(\"parquet\")\n",
    "    .options(**s3_options)\n",
    "    .load(\"s3a://dev-lab-02-us-east-2-landing/soccer/league/\")\n",
    ")\n",
    "\n",
    "df.show()\n",
    "\n",
    "\n",
    "(\n",
    "    df\n",
    "    .write\n",
    "    .format(\"delta\")\n",
    "    .options(**minio_delta_options)\n",
    "    .mode(\"overwrite\")\n",
    "    .save(\"s3a://bucket-bronze-zone/soccer/league/\")\n",
    ")\n",
    "\n",
    "print(\"Tabela Delta gravada com sucesso no MinIO!\")\n",
    "\n",
    "spark.stop()"
   ]
  }
 ],
 "metadata": {
  "kernelspec": {
   "display_name": "Python 3 (ipykernel)",
   "language": "python",
   "name": "python3"
  },
  "language_info": {
   "codemirror_mode": {
    "name": "ipython",
    "version": 3
   },
   "file_extension": ".py",
   "mimetype": "text/x-python",
   "name": "python",
   "nbconvert_exporter": "python",
   "pygments_lexer": "ipython3",
   "version": "3.10.5"
  }
 },
 "nbformat": 4,
 "nbformat_minor": 5
}
